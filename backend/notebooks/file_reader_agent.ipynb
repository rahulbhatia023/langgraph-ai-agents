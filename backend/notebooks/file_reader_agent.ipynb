{
 "nbformat": 4,
 "nbformat_minor": 0,
 "metadata": {
  "colab": {
   "provenance": [],
   "authorship_tag": "ABX9TyO2HBhwTqyHAcA35hCvWDQx"
  },
  "kernelspec": {
   "name": "python3",
   "display_name": "Python 3"
  },
  "language_info": {
   "name": "python"
  }
 },
 "cells": [
  {
   "cell_type": "markdown",
   "source": [
    "This code defines a LangChain agent that can read the content of a JSON file and provide a summary of the data.\n",
    "The agent follows these steps:\n",
    "1. Ask the user for the file path.\n",
    "2. Read the JSON file content.\n",
    "3. Ask the user if they want to see the summary of the data.\n",
    "4. If the user says \"yes\", provide the total number of records in the file and show the schema for the data.\n",
    "5. If the user says \"no\", end the conversation."
   ],
   "metadata": {
    "id": "UDU3XpiScgaz"
   }
  },
  {
   "cell_type": "code",
   "execution_count": 1,
   "metadata": {
    "colab": {
     "base_uri": "https://localhost:8080/"
    },
    "id": "yB_xgOJ2Q6-_",
    "executionInfo": {
     "status": "ok",
     "timestamp": 1726517982551,
     "user_tz": 240,
     "elapsed": 19250,
     "user": {
      "displayName": "Rahul Bhatia",
      "userId": "03753081185822663854"
     }
    },
    "outputId": "88505be9-5dce-4785-bb3c-42cbf51579fe"
   },
   "outputs": [
    {
     "output_type": "stream",
     "name": "stdout",
     "text": [
      "Collecting langgraph\n",
      "  Downloading langgraph-0.2.21-py3-none-any.whl.metadata (13 kB)\n",
      "Collecting langchain-openai\n",
      "  Downloading langchain_openai-0.2.0-py3-none-any.whl.metadata (2.6 kB)\n",
      "Collecting langchain-core<0.4,>=0.2.39 (from langgraph)\n",
      "  Downloading langchain_core-0.3.0-py3-none-any.whl.metadata (6.2 kB)\n",
      "Collecting langgraph-checkpoint<2.0.0,>=1.0.2 (from langgraph)\n",
      "  Downloading langgraph_checkpoint-1.0.9-py3-none-any.whl.metadata (4.5 kB)\n",
      "Collecting openai<2.0.0,>=1.40.0 (from langchain-openai)\n",
      "  Downloading openai-1.45.1-py3-none-any.whl.metadata (22 kB)\n",
      "Collecting tiktoken<1,>=0.7 (from langchain-openai)\n",
      "  Downloading tiktoken-0.7.0-cp310-cp310-manylinux_2_17_x86_64.manylinux2014_x86_64.whl.metadata (6.6 kB)\n",
      "Requirement already satisfied: PyYAML>=5.3 in /usr/local/lib/python3.10/dist-packages (from langchain-core<0.4,>=0.2.39->langgraph) (6.0.2)\n",
      "Collecting jsonpatch<2.0,>=1.33 (from langchain-core<0.4,>=0.2.39->langgraph)\n",
      "  Downloading jsonpatch-1.33-py2.py3-none-any.whl.metadata (3.0 kB)\n",
      "Collecting langsmith<0.2.0,>=0.1.117 (from langchain-core<0.4,>=0.2.39->langgraph)\n",
      "  Downloading langsmith-0.1.121-py3-none-any.whl.metadata (13 kB)\n",
      "Requirement already satisfied: packaging<25,>=23.2 in /usr/local/lib/python3.10/dist-packages (from langchain-core<0.4,>=0.2.39->langgraph) (24.1)\n",
      "Requirement already satisfied: pydantic<3.0.0,>=2.5.2 in /usr/local/lib/python3.10/dist-packages (from langchain-core<0.4,>=0.2.39->langgraph) (2.9.1)\n",
      "Collecting tenacity!=8.4.0,<9.0.0,>=8.1.0 (from langchain-core<0.4,>=0.2.39->langgraph)\n",
      "  Downloading tenacity-8.5.0-py3-none-any.whl.metadata (1.2 kB)\n",
      "Requirement already satisfied: typing-extensions>=4.7 in /usr/local/lib/python3.10/dist-packages (from langchain-core<0.4,>=0.2.39->langgraph) (4.12.2)\n",
      "Requirement already satisfied: anyio<5,>=3.5.0 in /usr/local/lib/python3.10/dist-packages (from openai<2.0.0,>=1.40.0->langchain-openai) (3.7.1)\n",
      "Requirement already satisfied: distro<2,>=1.7.0 in /usr/lib/python3/dist-packages (from openai<2.0.0,>=1.40.0->langchain-openai) (1.7.0)\n",
      "Collecting httpx<1,>=0.23.0 (from openai<2.0.0,>=1.40.0->langchain-openai)\n",
      "  Downloading httpx-0.27.2-py3-none-any.whl.metadata (7.1 kB)\n",
      "Collecting jiter<1,>=0.4.0 (from openai<2.0.0,>=1.40.0->langchain-openai)\n",
      "  Downloading jiter-0.5.0-cp310-cp310-manylinux_2_17_x86_64.manylinux2014_x86_64.whl.metadata (3.6 kB)\n",
      "Requirement already satisfied: sniffio in /usr/local/lib/python3.10/dist-packages (from openai<2.0.0,>=1.40.0->langchain-openai) (1.3.1)\n",
      "Requirement already satisfied: tqdm>4 in /usr/local/lib/python3.10/dist-packages (from openai<2.0.0,>=1.40.0->langchain-openai) (4.66.5)\n",
      "Requirement already satisfied: regex>=2022.1.18 in /usr/local/lib/python3.10/dist-packages (from tiktoken<1,>=0.7->langchain-openai) (2024.5.15)\n",
      "Requirement already satisfied: requests>=2.26.0 in /usr/local/lib/python3.10/dist-packages (from tiktoken<1,>=0.7->langchain-openai) (2.32.3)\n",
      "Requirement already satisfied: idna>=2.8 in /usr/local/lib/python3.10/dist-packages (from anyio<5,>=3.5.0->openai<2.0.0,>=1.40.0->langchain-openai) (3.8)\n",
      "Requirement already satisfied: exceptiongroup in /usr/local/lib/python3.10/dist-packages (from anyio<5,>=3.5.0->openai<2.0.0,>=1.40.0->langchain-openai) (1.2.2)\n",
      "Requirement already satisfied: certifi in /usr/local/lib/python3.10/dist-packages (from httpx<1,>=0.23.0->openai<2.0.0,>=1.40.0->langchain-openai) (2024.8.30)\n",
      "Collecting httpcore==1.* (from httpx<1,>=0.23.0->openai<2.0.0,>=1.40.0->langchain-openai)\n",
      "  Downloading httpcore-1.0.5-py3-none-any.whl.metadata (20 kB)\n",
      "Collecting h11<0.15,>=0.13 (from httpcore==1.*->httpx<1,>=0.23.0->openai<2.0.0,>=1.40.0->langchain-openai)\n",
      "  Downloading h11-0.14.0-py3-none-any.whl.metadata (8.2 kB)\n",
      "Collecting jsonpointer>=1.9 (from jsonpatch<2.0,>=1.33->langchain-core<0.4,>=0.2.39->langgraph)\n",
      "  Downloading jsonpointer-3.0.0-py2.py3-none-any.whl.metadata (2.3 kB)\n",
      "Collecting orjson<4.0.0,>=3.9.14 (from langsmith<0.2.0,>=0.1.117->langchain-core<0.4,>=0.2.39->langgraph)\n",
      "  Downloading orjson-3.10.7-cp310-cp310-manylinux_2_17_x86_64.manylinux2014_x86_64.whl.metadata (50 kB)\n",
      "\u001b[2K     \u001b[90m━━━━━━━━━━━━━━━━━━━━━━━━━━━━━━━━━━━━━━━━\u001b[0m \u001b[32m50.4/50.4 kB\u001b[0m \u001b[31m1.4 MB/s\u001b[0m eta \u001b[36m0:00:00\u001b[0m\n",
      "\u001b[?25hRequirement already satisfied: annotated-types>=0.6.0 in /usr/local/lib/python3.10/dist-packages (from pydantic<3.0.0,>=2.5.2->langchain-core<0.4,>=0.2.39->langgraph) (0.7.0)\n",
      "Requirement already satisfied: pydantic-core==2.23.3 in /usr/local/lib/python3.10/dist-packages (from pydantic<3.0.0,>=2.5.2->langchain-core<0.4,>=0.2.39->langgraph) (2.23.3)\n",
      "Requirement already satisfied: charset-normalizer<4,>=2 in /usr/local/lib/python3.10/dist-packages (from requests>=2.26.0->tiktoken<1,>=0.7->langchain-openai) (3.3.2)\n",
      "Requirement already satisfied: urllib3<3,>=1.21.1 in /usr/local/lib/python3.10/dist-packages (from requests>=2.26.0->tiktoken<1,>=0.7->langchain-openai) (2.0.7)\n",
      "Downloading langgraph-0.2.21-py3-none-any.whl (97 kB)\n",
      "\u001b[2K   \u001b[90m━━━━━━━━━━━━━━━━━━━━━━━━━━━━━━━━━━━━━━━━\u001b[0m \u001b[32m97.6/97.6 kB\u001b[0m \u001b[31m4.8 MB/s\u001b[0m eta \u001b[36m0:00:00\u001b[0m\n",
      "\u001b[?25hDownloading langchain_openai-0.2.0-py3-none-any.whl (51 kB)\n",
      "\u001b[2K   \u001b[90m━━━━━━━━━━━━━━━━━━━━━━━━━━━━━━━━━━━━━━━━\u001b[0m \u001b[32m51.5/51.5 kB\u001b[0m \u001b[31m2.3 MB/s\u001b[0m eta \u001b[36m0:00:00\u001b[0m\n",
      "\u001b[?25hDownloading langchain_core-0.3.0-py3-none-any.whl (405 kB)\n",
      "\u001b[2K   \u001b[90m━━━━━━━━━━━━━━━━━━━━━━━━━━━━━━━━━━━━━━━━\u001b[0m \u001b[32m405.1/405.1 kB\u001b[0m \u001b[31m15.0 MB/s\u001b[0m eta \u001b[36m0:00:00\u001b[0m\n",
      "\u001b[?25hDownloading langgraph_checkpoint-1.0.9-py3-none-any.whl (15 kB)\n",
      "Downloading openai-1.45.1-py3-none-any.whl (374 kB)\n",
      "\u001b[2K   \u001b[90m━━━━━━━━━━━━━━━━━━━━━━━━━━━━━━━━━━━━━━━━\u001b[0m \u001b[32m374.2/374.2 kB\u001b[0m \u001b[31m12.5 MB/s\u001b[0m eta \u001b[36m0:00:00\u001b[0m\n",
      "\u001b[?25hDownloading tiktoken-0.7.0-cp310-cp310-manylinux_2_17_x86_64.manylinux2014_x86_64.whl (1.1 MB)\n",
      "\u001b[2K   \u001b[90m━━━━━━━━━━━━━━━━━━━━━━━━━━━━━━━━━━━━━━━━\u001b[0m \u001b[32m1.1/1.1 MB\u001b[0m \u001b[31m22.3 MB/s\u001b[0m eta \u001b[36m0:00:00\u001b[0m\n",
      "\u001b[?25hDownloading httpx-0.27.2-py3-none-any.whl (76 kB)\n",
      "\u001b[2K   \u001b[90m━━━━━━━━━━━━━━━━━━━━━━━━━━━━━━━━━━━━━━━━\u001b[0m \u001b[32m76.4/76.4 kB\u001b[0m \u001b[31m4.8 MB/s\u001b[0m eta \u001b[36m0:00:00\u001b[0m\n",
      "\u001b[?25hDownloading httpcore-1.0.5-py3-none-any.whl (77 kB)\n",
      "\u001b[2K   \u001b[90m━━━━━━━━━━━━━━━━━━━━━━━━━━━━━━━━━━━━━━━━\u001b[0m \u001b[32m77.9/77.9 kB\u001b[0m \u001b[31m5.2 MB/s\u001b[0m eta \u001b[36m0:00:00\u001b[0m\n",
      "\u001b[?25hDownloading jiter-0.5.0-cp310-cp310-manylinux_2_17_x86_64.manylinux2014_x86_64.whl (318 kB)\n",
      "\u001b[2K   \u001b[90m━━━━━━━━━━━━━━━━━━━━━━━━━━━━━━━━━━━━━━━━\u001b[0m \u001b[32m318.9/318.9 kB\u001b[0m \u001b[31m15.8 MB/s\u001b[0m eta \u001b[36m0:00:00\u001b[0m\n",
      "\u001b[?25hDownloading jsonpatch-1.33-py2.py3-none-any.whl (12 kB)\n",
      "Downloading langsmith-0.1.121-py3-none-any.whl (289 kB)\n",
      "\u001b[2K   \u001b[90m━━━━━━━━━━━━━━━━━━━━━━━━━━━━━━━━━━━━━━━━\u001b[0m \u001b[32m289.9/289.9 kB\u001b[0m \u001b[31m12.4 MB/s\u001b[0m eta \u001b[36m0:00:00\u001b[0m\n",
      "\u001b[?25hDownloading tenacity-8.5.0-py3-none-any.whl (28 kB)\n",
      "Downloading jsonpointer-3.0.0-py2.py3-none-any.whl (7.6 kB)\n",
      "Downloading orjson-3.10.7-cp310-cp310-manylinux_2_17_x86_64.manylinux2014_x86_64.whl (141 kB)\n",
      "\u001b[2K   \u001b[90m━━━━━━━━━━━━━━━━━━━━━━━━━━━━━━━━━━━━━━━━\u001b[0m \u001b[32m141.9/141.9 kB\u001b[0m \u001b[31m8.5 MB/s\u001b[0m eta \u001b[36m0:00:00\u001b[0m\n",
      "\u001b[?25hDownloading h11-0.14.0-py3-none-any.whl (58 kB)\n",
      "\u001b[2K   \u001b[90m━━━━━━━━━━━━━━━━━━━━━━━━━━━━━━━━━━━━━━━━\u001b[0m \u001b[32m58.3/58.3 kB\u001b[0m \u001b[31m2.8 MB/s\u001b[0m eta \u001b[36m0:00:00\u001b[0m\n",
      "\u001b[?25hInstalling collected packages: tenacity, orjson, jsonpointer, jiter, h11, tiktoken, jsonpatch, httpcore, httpx, openai, langsmith, langchain-core, langgraph-checkpoint, langchain-openai, langgraph\n",
      "  Attempting uninstall: tenacity\n",
      "    Found existing installation: tenacity 9.0.0\n",
      "    Uninstalling tenacity-9.0.0:\n",
      "      Successfully uninstalled tenacity-9.0.0\n",
      "Successfully installed h11-0.14.0 httpcore-1.0.5 httpx-0.27.2 jiter-0.5.0 jsonpatch-1.33 jsonpointer-3.0.0 langchain-core-0.3.0 langchain-openai-0.2.0 langgraph-0.2.21 langgraph-checkpoint-1.0.9 langsmith-0.1.121 openai-1.45.1 orjson-3.10.7 tenacity-8.5.0 tiktoken-0.7.0\n"
     ]
    }
   ],
   "source": [
    "!pip install langgraph langchain-openai"
   ]
  },
  {
   "cell_type": "code",
   "source": [
    "import os, getpass\n",
    "\n",
    "\n",
    "def _set_env(var: str):\n",
    "    if not os.environ.get(var):\n",
    "        os.environ[var] = getpass.getpass(f\"{var}: \")"
   ],
   "metadata": {
    "id": "gazknicFSXvo",
    "executionInfo": {
     "status": "ok",
     "timestamp": 1726517987296,
     "user_tz": 240,
     "elapsed": 226,
     "user": {
      "displayName": "Rahul Bhatia",
      "userId": "03753081185822663854"
     }
    }
   },
   "execution_count": 2,
   "outputs": []
  },
  {
   "cell_type": "code",
   "source": [
    "_set_env(\"OPENAI_API_KEY\")"
   ],
   "metadata": {
    "colab": {
     "base_uri": "https://localhost:8080/"
    },
    "id": "sAK58kdFTIW4",
    "executionInfo": {
     "status": "ok",
     "timestamp": 1726518039673,
     "user_tz": 240,
     "elapsed": 11988,
     "user": {
      "displayName": "Rahul Bhatia",
      "userId": "03753081185822663854"
     }
    },
    "outputId": "6dc2657e-291b-454b-d00d-6653721a37ed"
   },
   "execution_count": 7,
   "outputs": [
    {
     "name": "stdout",
     "output_type": "stream",
     "text": [
      "OPENAI_API_KEY: ··········\n"
     ]
    }
   ]
  },
  {
   "cell_type": "code",
   "source": [
    "from typing import TypedDict, Annotated\n",
    "\n",
    "from langchain_core.messages import SystemMessage, HumanMessage\n",
    "from langchain_core.tools import tool\n",
    "from langchain_openai import ChatOpenAI\n",
    "from langgraph.checkpoint.memory import MemorySaver\n",
    "from langgraph.constants import START, END\n",
    "from langgraph.graph import add_messages, StateGraph\n",
    "from langgraph.prebuilt import ToolNode"
   ],
   "metadata": {
    "id": "JDTxcpBnTQ6K",
    "executionInfo": {
     "status": "ok",
     "timestamp": 1726518005066,
     "user_tz": 240,
     "elapsed": 3398,
     "user": {
      "displayName": "Rahul Bhatia",
      "userId": "03753081185822663854"
     }
    }
   },
   "execution_count": 3,
   "outputs": []
  },
  {
   "cell_type": "code",
   "source": [
    "class JSONFileReaderState(TypedDict):\n",
    "    file_path: str\n",
    "    file_content: str\n",
    "    messages: Annotated[list[str], add_messages]"
   ],
   "metadata": {
    "id": "sii7QkdjXtqd",
    "executionInfo": {
     "status": "ok",
     "timestamp": 1726518005067,
     "user_tz": 240,
     "elapsed": 4,
     "user": {
      "displayName": "Rahul Bhatia",
      "userId": "03753081185822663854"
     }
    }
   },
   "execution_count": 4,
   "outputs": []
  },
  {
   "cell_type": "code",
   "source": [
    "@tool\n",
    "def read_file(file_path):\n",
    "    \"\"\"\n",
    "    Read the content of a file and return it as a string.\n",
    "    :param file_path: The path to the file to read.\n",
    "    :return: The content of the file as a string.\n",
    "    :rtype: str\n",
    "    \"\"\"\n",
    "    with open(file_path, \"r\") as file:\n",
    "        content = file.read()\n",
    "    return {\"file_content\": content}"
   ],
   "metadata": {
    "id": "xmC1pvHcXxkD",
    "executionInfo": {
     "status": "ok",
     "timestamp": 1726518005067,
     "user_tz": 240,
     "elapsed": 3,
     "user": {
      "displayName": "Rahul Bhatia",
      "userId": "03753081185822663854"
     }
    }
   },
   "execution_count": 5,
   "outputs": []
  },
  {
   "cell_type": "code",
   "source": [
    "tools = [read_file]\n",
    "model = ChatOpenAI(model=\"gpt-4o\", temperature=0, streaming=True).bind_tools(tools)"
   ],
   "metadata": {
    "id": "oH2vVKAMX09r",
    "executionInfo": {
     "status": "ok",
     "timestamp": 1726518043167,
     "user_tz": 240,
     "elapsed": 234,
     "user": {
      "displayName": "Rahul Bhatia",
      "userId": "03753081185822663854"
     }
    }
   },
   "execution_count": 8,
   "outputs": []
  },
  {
   "cell_type": "code",
   "source": [
    "def call_model(state):\n",
    "    response = model.invoke(state[\"messages\"])\n",
    "    return {\"messages\": [response]}\n",
    "\n",
    "\n",
    "def ask_human(state):\n",
    "    human_message = input(\"Enter a message: \")\n",
    "    return {\"messages\": [HumanMessage(content=human_message)]}\n",
    "\n",
    "\n",
    "def ai_route(state):\n",
    "    messages = state[\"messages\"]\n",
    "    last_message = messages[-1]\n",
    "    if last_message.tool_calls:\n",
    "        return \"tools\"\n",
    "    else:\n",
    "        return \"human\"\n",
    "\n",
    "\n",
    "def human_route(state):\n",
    "    messages = state[\"messages\"]\n",
    "    last_message = messages[-1]\n",
    "    if last_message.content == \"quit\":\n",
    "        return \"END\"\n",
    "    else:\n",
    "        return \"agent\""
   ],
   "metadata": {
    "id": "lGrIL0EJX5F9",
    "executionInfo": {
     "status": "ok",
     "timestamp": 1726518335344,
     "user_tz": 240,
     "elapsed": 261,
     "user": {
      "displayName": "Rahul Bhatia",
      "userId": "03753081185822663854"
     }
    }
   },
   "execution_count": 15,
   "outputs": []
  },
  {
   "cell_type": "code",
   "source": [],
   "metadata": {
    "id": "5Wzs01YAX8iL"
   },
   "execution_count": null,
   "outputs": []
  },
  {
   "cell_type": "code",
   "source": [
    "graph = StateGraph(JSONFileReaderState)\n",
    "\n",
    "graph.add_node(\"agent\", call_model)\n",
    "graph.add_node(\"human\", ask_human)\n",
    "graph.add_node(\"tools\", ToolNode(tools))\n",
    "\n",
    "graph.add_edge(START, \"agent\")\n",
    "graph.add_conditional_edges(\"agent\", ai_route, {\"tools\": \"tools\", \"human\": \"human\"})\n",
    "graph.add_conditional_edges(\"human\", human_route, {\"END\": END, \"agent\": \"agent\"})\n",
    "graph.add_edge(\"tools\", \"agent\")\n",
    "\n",
    "agent = graph.compile(checkpointer=MemorySaver())"
   ],
   "metadata": {
    "id": "Zj_8ARQAYFPM",
    "executionInfo": {
     "status": "ok",
     "timestamp": 1726518401369,
     "user_tz": 240,
     "elapsed": 224,
     "user": {
      "displayName": "Rahul Bhatia",
      "userId": "03753081185822663854"
     }
    }
   },
   "execution_count": 18,
   "outputs": []
  },
  {
   "cell_type": "code",
   "source": [
    "from IPython.display import Image, display\n",
    "\n",
    "display(Image(agent.get_graph(xray=1).draw_mermaid_png()))"
   ],
   "metadata": {
    "colab": {
     "base_uri": "https://localhost:8080/",
     "height": 374
    },
    "id": "T_0UAJQpf41m",
    "executionInfo": {
     "status": "ok",
     "timestamp": 1726518406006,
     "user_tz": 240,
     "elapsed": 2298,
     "user": {
      "displayName": "Rahul Bhatia",
      "userId": "03753081185822663854"
     }
    },
    "outputId": "f133e599-413d-4144-cb1e-eabe3cf24c3a"
   },
   "execution_count": 19,
   "outputs": [
    {
     "output_type": "display_data",
     "data": {
      "image/jpeg": "[encoded data removed]",
      "text/plain": [
       "<IPython.core.display.Image object>"
      ]
     },
     "metadata": {}
    }
   ]
  },
  {
   "cell_type": "code",
   "source": [
    "system_message = SystemMessage(\n",
    "    content=\"\"\"\n",
    "    You are a helpful assistant that performs below steps:\n",
    "    1.  Ask user for the file path.\n",
    "    2.  Read the JSON file content.\n",
    "    3.  Once step 2 is done, provide a success message to the user.\n",
    "    4.  Ask user if they want to see the summary of the data.\n",
    "    5.  If the user says \"yes\", provide the total number of records in the file.\n",
    "        Also show the schema for the data.\n",
    "\n",
    "    If you are not sure about anything apologise and gently say that you cannot do that.\n",
    "    \"\"\"\n",
    ")"
   ],
   "metadata": {
    "id": "Ja11WU23YV6b"
   },
   "execution_count": null,
   "outputs": []
  },
  {
   "cell_type": "code",
   "source": [
    "config = {\"configurable\": {\"thread_id\": \"1\"}}\n",
    "\n",
    "for event in agent.stream(\n",
    "    input={\"messages\": [system_message]}, config=config, stream_mode=\"values\"\n",
    "):\n",
    "    event[\"messages\"][-1].pretty_print()"
   ],
   "metadata": {
    "colab": {
     "base_uri": "https://localhost:8080/"
    },
    "id": "3n9Ol4xkYs6_",
    "outputId": "00ef659d-3f83-440f-a4b6-d3fe0598a533",
    "executionInfo": {
     "status": "ok",
     "timestamp": 1726500340841,
     "user_tz": 240,
     "elapsed": 98666,
     "user": {
      "displayName": "Rahul Bhatia",
      "userId": "03753081185822663854"
     }
    }
   },
   "execution_count": null,
   "outputs": [
    {
     "output_type": "stream",
     "name": "stdout",
     "text": [
      "================================\u001b[1m System Message \u001b[0m================================\n",
      "\n",
      "\n",
      "    You are a helpful assistant that performs below steps:\n",
      "    1.  Ask user for the file path.\n",
      "    2.  Read the JSON file content.\n",
      "    3.  Once step 2 is done, provide a success message to the user.\n",
      "    4.  Ask user if they want to see the summary of the data.\n",
      "    5.  If the user says \"yes\", provide the total number of records in the file.\n",
      "        Also show the schema for the data.\n",
      "\n",
      "    If you are not sure about anything apologise and gently say that you cannot do that.\n",
      "    \n",
      "==================================\u001b[1m Ai Message \u001b[0m==================================\n",
      "\n",
      "Please provide the file path to the JSON file you would like to read.\n",
      "Enter a message: /content/sample_data/sample_data.json\n",
      "================================\u001b[1m Human Message \u001b[0m=================================\n",
      "\n",
      "/content/sample_data/sample_data.json\n",
      "==================================\u001b[1m Ai Message \u001b[0m==================================\n",
      "Tool Calls:\n",
      "  read_file (call_Kj8SuorObEY1PucUDsKlBiLD)\n",
      " Call ID: call_Kj8SuorObEY1PucUDsKlBiLD\n",
      "  Args:\n",
      "    file_path: /content/sample_data/sample_data.json\n",
      "=================================\u001b[1m Tool Message \u001b[0m=================================\n",
      "Name: read_file\n",
      "\n",
      "{\"file_content\": \"[\\n    {\\n        \\\"customer_id\\\": \\\"C001\\\",\\n        \\\"name\\\": \\\"Alice Johnson\\\",\\n        \\\"age\\\": 28,\\n        \\\"email\\\": \\\"alice.johnson@example.com\\\",\\n        \\\"signup_date\\\": \\\"2021-05-10\\\",\\n        \\\"purchase_history\\\": [\\n            {\\n                \\\"item_id\\\": \\\"I1001\\\",\\n                \\\"item_name\\\": \\\"Laptop\\\",\\n                \\\"price\\\": 1200.99,\\n                \\\"purchase_date\\\": \\\"2021-06-15\\\"\\n            },\\n            {\\n                \\\"item_id\\\": \\\"I1002\\\",\\n                \\\"item_name\\\": \\\"Mouse\\\",\\n                \\\"price\\\": 25.5,\\n                \\\"purchase_date\\\": \\\"2021-07-01\\\"\\n            }\\n        ]\\n    },\\n    {\\n        \\\"customer_id\\\": \\\"C002\\\",\\n        \\\"name\\\": \\\"Bob Smith\\\",\\n        \\\"email\\\": \\\"bob.smith@example.com\\\",\\n        \\\"signup_date\\\": \\\"2021-06-20\\\",\\n        \\\"purchase_history\\\": [\\n            {\\n                \\\"item_id\\\": \\\"I1003\\\",\\n                \\\"item_name\\\": \\\"Keyboard\\\",\\n                \\\"price\\\": -45.0,\\n                \\\"purchase_date\\\": \\\"2021-07-10\\\"\\n            }\\n        ]\\n    },\\n    {\\n        \\\"customer_id\\\": \\\"C003\\\",\\n        \\\"name\\\": \\\"Charlie Davis\\\",\\n        \\\"age\\\": \\\"thirty\\\",\\n        \\\"email\\\": \\\"charlie.davis[at]example.com\\\",\\n        \\\"signup_date\\\": \\\"2021/07/25\\\",\\n        \\\"purchase_history\\\": []\\n    }\\n]\"}\n",
      "==================================\u001b[1m Ai Message \u001b[0m==================================\n",
      "\n",
      "The JSON file has been successfully read.\n",
      "\n",
      "Would you like to see a summary of the data?\n",
      "Enter a message: yes\n",
      "================================\u001b[1m Human Message \u001b[0m=================================\n",
      "\n",
      "yes\n",
      "==================================\u001b[1m Ai Message \u001b[0m==================================\n",
      "\n",
      "The JSON file contains a total of 3 records.\n",
      "\n",
      "Here is the schema for the data:\n",
      "\n",
      "- `customer_id` (string)\n",
      "- `name` (string)\n",
      "- `age` (integer or string, optional)\n",
      "- `email` (string)\n",
      "- `signup_date` (string, date format)\n",
      "- `purchase_history` (array of objects, optional)\n",
      "  - Each object in `purchase_history` contains:\n",
      "    - `item_id` (string)\n",
      "    - `item_name` (string)\n",
      "    - `price` (number)\n",
      "    - `purchase_date` (string, date format)\n",
      "\n",
      "Would you like to do anything else with this data?\n",
      "Enter a message: no\n",
      "================================\u001b[1m Human Message \u001b[0m=================================\n",
      "\n",
      "no\n",
      "==================================\u001b[1m Ai Message \u001b[0m==================================\n",
      "\n",
      "Alright, if you need any further assistance, feel free to ask. Have a great day!\n",
      "Enter a message: quit\n",
      "================================\u001b[1m Human Message \u001b[0m=================================\n",
      "\n",
      "quit\n"
     ]
    }
   ]
  }
 ]
}